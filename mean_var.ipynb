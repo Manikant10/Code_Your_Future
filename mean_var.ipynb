{
 "cells": [
  {
   "cell_type": "code",
   "execution_count": 9,
   "id": "80b93661-048b-4e6b-a701-547713a5c3b7",
   "metadata": {},
   "outputs": [],
   "source": [
    "import pandas as pd\n",
    "#We can import or create our own dataset for the calculation of mean,variance of a data. \n",
    "#We are making our own datasets using pandas\n",
    "data={\n",
    "    'Student':['Manikant','Shikha','Aman','Ayush','Abhishek','Devi','Mayank'],\n",
    "    'Marks':[120,99,85,110,112,135,195]\n",
    "}\n",
    "df=pd.DataFrame(data)"
   ]
  },
  {
   "cell_type": "code",
   "execution_count": 13,
   "id": "c4a747b1-54fe-4687-b019-0abd025b6ad8",
   "metadata": {},
   "outputs": [
    {
     "data": {
      "text/html": [
       "<div>\n",
       "<style scoped>\n",
       "    .dataframe tbody tr th:only-of-type {\n",
       "        vertical-align: middle;\n",
       "    }\n",
       "\n",
       "    .dataframe tbody tr th {\n",
       "        vertical-align: top;\n",
       "    }\n",
       "\n",
       "    .dataframe thead th {\n",
       "        text-align: right;\n",
       "    }\n",
       "</style>\n",
       "<table border=\"1\" class=\"dataframe\">\n",
       "  <thead>\n",
       "    <tr style=\"text-align: right;\">\n",
       "      <th></th>\n",
       "      <th>Student</th>\n",
       "      <th>Marks</th>\n",
       "    </tr>\n",
       "  </thead>\n",
       "  <tbody>\n",
       "    <tr>\n",
       "      <th>0</th>\n",
       "      <td>Manikant</td>\n",
       "      <td>120</td>\n",
       "    </tr>\n",
       "    <tr>\n",
       "      <th>1</th>\n",
       "      <td>Shikha</td>\n",
       "      <td>99</td>\n",
       "    </tr>\n",
       "    <tr>\n",
       "      <th>2</th>\n",
       "      <td>Aman</td>\n",
       "      <td>85</td>\n",
       "    </tr>\n",
       "    <tr>\n",
       "      <th>3</th>\n",
       "      <td>Ayush</td>\n",
       "      <td>110</td>\n",
       "    </tr>\n",
       "    <tr>\n",
       "      <th>4</th>\n",
       "      <td>Abhishek</td>\n",
       "      <td>112</td>\n",
       "    </tr>\n",
       "  </tbody>\n",
       "</table>\n",
       "</div>"
      ],
      "text/plain": [
       "    Student  Marks\n",
       "0  Manikant    120\n",
       "1    Shikha     99\n",
       "2      Aman     85\n",
       "3     Ayush    110\n",
       "4  Abhishek    112"
      ]
     },
     "execution_count": 13,
     "metadata": {},
     "output_type": "execute_result"
    }
   ],
   "source": [
    "df.head()"
   ]
  },
  {
   "cell_type": "code",
   "execution_count": 25,
   "id": "26f0ef55-add4-43ed-9ad3-a295fb701418",
   "metadata": {},
   "outputs": [
    {
     "name": "stdout",
     "output_type": "stream",
     "text": [
      "Mean score is 122.28571428571429\n"
     ]
    }
   ],
   "source": [
    "# here we have use head to see our dataset ,is it created or not.\n",
    "#Now we calculate the following :\n",
    "#Calculating mean'\n",
    "mean=df['Marks'].mean()\n",
    "print(\"Mean score is\",mean)"
   ]
  },
  {
   "cell_type": "code",
   "execution_count": 27,
   "id": "dc880e13-67e5-4acf-9dab-196b56f6493c",
   "metadata": {},
   "outputs": [
    {
     "name": "stdout",
     "output_type": "stream",
     "text": [
      "Variance is 1273.904761904762\n"
     ]
    }
   ],
   "source": [
    "#Calculating variance\n",
    "var=df['Marks'].var()\n",
    "print(\"Variance is\",var)"
   ]
  },
  {
   "cell_type": "code",
   "execution_count": 29,
   "id": "b4e5f7f5-fee3-49d4-921e-debb4fc8564b",
   "metadata": {},
   "outputs": [
    {
     "name": "stdout",
     "output_type": "stream",
     "text": [
      "Standard deviation is 35.69180244684712\n"
     ]
    }
   ],
   "source": [
    "#calculating standard deviation\n",
    "std=df['Marks'].std()\n",
    "print(\"Standard deviation is\",std)"
   ]
  },
  {
   "cell_type": "code",
   "execution_count": 31,
   "id": "93819596-b048-4f88-9a84-7c2b8d04e25e",
   "metadata": {},
   "outputs": [
    {
     "name": "stdout",
     "output_type": "stream",
     "text": [
      "Median is  112.0\n"
     ]
    }
   ],
   "source": [
    "#calculating median \n",
    "median=df['Marks'].median()\n",
    "print(\"Median is \",median)"
   ]
  },
  {
   "cell_type": "code",
   "execution_count": 35,
   "id": "6d85d801-f141-4956-9871-180d5f03d0a0",
   "metadata": {},
   "outputs": [
    {
     "name": "stdout",
     "output_type": "stream",
     "text": [
      "Mean score is 122.28571428571429\n",
      "Variance is 1273.904761904762\n",
      "Standard deviation is 35.69180244684712\n",
      "Median is  112.0\n"
     ]
    }
   ],
   "source": [
    "print(\"Mean score is\",mean)\n",
    "print(\"Variance is\",var)\n",
    "print(\"Standard deviation is\",std)\n",
    "print(\"Median is \",median)"
   ]
  },
  {
   "cell_type": "code",
   "execution_count": 33,
   "id": "df221ccf-033b-4dbd-87b2-6da765fe85a4",
   "metadata": {},
   "outputs": [
    {
     "data": {
      "text/html": [
       "<div>\n",
       "<style scoped>\n",
       "    .dataframe tbody tr th:only-of-type {\n",
       "        vertical-align: middle;\n",
       "    }\n",
       "\n",
       "    .dataframe tbody tr th {\n",
       "        vertical-align: top;\n",
       "    }\n",
       "\n",
       "    .dataframe thead th {\n",
       "        text-align: right;\n",
       "    }\n",
       "</style>\n",
       "<table border=\"1\" class=\"dataframe\">\n",
       "  <thead>\n",
       "    <tr style=\"text-align: right;\">\n",
       "      <th></th>\n",
       "      <th>GRE Score</th>\n",
       "      <th>TOEFL Score</th>\n",
       "      <th>University Rating</th>\n",
       "      <th>SOP</th>\n",
       "      <th>LOR</th>\n",
       "      <th>CGPA</th>\n",
       "      <th>Research</th>\n",
       "      <th>Chance of Admit</th>\n",
       "    </tr>\n",
       "  </thead>\n",
       "  <tbody>\n",
       "    <tr>\n",
       "      <th>0</th>\n",
       "      <td>337</td>\n",
       "      <td>118</td>\n",
       "      <td>4</td>\n",
       "      <td>4.5</td>\n",
       "      <td>4.5</td>\n",
       "      <td>9.65</td>\n",
       "      <td>1</td>\n",
       "      <td>0.92</td>\n",
       "    </tr>\n",
       "    <tr>\n",
       "      <th>1</th>\n",
       "      <td>324</td>\n",
       "      <td>107</td>\n",
       "      <td>4</td>\n",
       "      <td>4.0</td>\n",
       "      <td>4.5</td>\n",
       "      <td>8.87</td>\n",
       "      <td>1</td>\n",
       "      <td>0.76</td>\n",
       "    </tr>\n",
       "    <tr>\n",
       "      <th>2</th>\n",
       "      <td>316</td>\n",
       "      <td>104</td>\n",
       "      <td>3</td>\n",
       "      <td>3.0</td>\n",
       "      <td>3.5</td>\n",
       "      <td>8.00</td>\n",
       "      <td>1</td>\n",
       "      <td>0.72</td>\n",
       "    </tr>\n",
       "    <tr>\n",
       "      <th>3</th>\n",
       "      <td>322</td>\n",
       "      <td>110</td>\n",
       "      <td>3</td>\n",
       "      <td>3.5</td>\n",
       "      <td>2.5</td>\n",
       "      <td>8.67</td>\n",
       "      <td>1</td>\n",
       "      <td>0.80</td>\n",
       "    </tr>\n",
       "    <tr>\n",
       "      <th>4</th>\n",
       "      <td>314</td>\n",
       "      <td>103</td>\n",
       "      <td>2</td>\n",
       "      <td>2.0</td>\n",
       "      <td>3.0</td>\n",
       "      <td>8.21</td>\n",
       "      <td>0</td>\n",
       "      <td>0.65</td>\n",
       "    </tr>\n",
       "  </tbody>\n",
       "</table>\n",
       "</div>"
      ],
      "text/plain": [
       "   GRE Score  TOEFL Score  University Rating  SOP  LOR   CGPA  Research  \\\n",
       "0        337          118                  4  4.5   4.5  9.65         1   \n",
       "1        324          107                  4  4.0   4.5  8.87         1   \n",
       "2        316          104                  3  3.0   3.5  8.00         1   \n",
       "3        322          110                  3  3.5   2.5  8.67         1   \n",
       "4        314          103                  2  2.0   3.0  8.21         0   \n",
       "\n",
       "   Chance of Admit   \n",
       "0              0.92  \n",
       "1              0.76  \n",
       "2              0.72  \n",
       "3              0.80  \n",
       "4              0.65  "
      ]
     },
     "execution_count": 33,
     "metadata": {},
     "output_type": "execute_result"
    }
   ],
   "source": [
    "\n",
    "\n",
    "\n",
    "\n",
    "\n",
    "#the above method is used for caclulating staistics for small data but for large data we can have other methods lets understand these from an example\n",
    "df1=pd.read_csv(\"C:\\\\admission_data.csv\")\n",
    "\n",
    "df1.head()"
   ]
  },
  {
   "cell_type": "code",
   "execution_count": 37,
   "id": "b9d4b9dd-6422-47ef-98be-95b15716a6ec",
   "metadata": {},
   "outputs": [
    {
     "data": {
      "text/plain": [
       "Index(['GRE Score', 'TOEFL Score', 'University Rating', 'SOP', 'LOR ', 'CGPA',\n",
       "       'Research', 'Chance of Admit '],\n",
       "      dtype='object')"
      ]
     },
     "execution_count": 37,
     "metadata": {},
     "output_type": "execute_result"
    }
   ],
   "source": [
    "df1.columns"
   ]
  },
  {
   "cell_type": "code",
   "execution_count": 43,
   "id": "6b9531fc-24aa-4cbf-aaf6-e1601f48187d",
   "metadata": {},
   "outputs": [
    {
     "name": "stdout",
     "output_type": "stream",
     "text": [
      "Mean of GRE is 316.472\n",
      "Median of GRE is 317.0\n",
      "Variance of GRE is 127.58037675350688\n",
      "Standard Deviation of GRE score is 11.295148372354694\n"
     ]
    }
   ],
   "source": [
    "#here we calculate mean and variance of GRE score\n",
    "mean1=df1['GRE Score'].mean()\n",
    "median1=df1['GRE Score'].median()\n",
    "var1=df1['GRE Score'].var()\n",
    "std1=df1['GRE Score'].std()\n",
    "\n",
    "\n",
    "\n",
    "#print the above values\n",
    "print(\"Mean of GRE is\",mean1)\n",
    "print(\"Median of GRE is\",median1)\n",
    "print(\"Variance of GRE is\",var1)\n",
    "print(\"Standard Deviation of GRE score is\", std1)"
   ]
  },
  {
   "cell_type": "code",
   "execution_count": null,
   "id": "751ef624-36e2-4ac1-baa3-cad48e991e08",
   "metadata": {},
   "outputs": [],
   "source": []
  }
 ],
 "metadata": {
  "kernelspec": {
   "display_name": "Python [conda env:base] *",
   "language": "python",
   "name": "conda-base-py"
  },
  "language_info": {
   "codemirror_mode": {
    "name": "ipython",
    "version": 3
   },
   "file_extension": ".py",
   "mimetype": "text/x-python",
   "name": "python",
   "nbconvert_exporter": "python",
   "pygments_lexer": "ipython3",
   "version": "3.12.7"
  }
 },
 "nbformat": 4,
 "nbformat_minor": 5
}
