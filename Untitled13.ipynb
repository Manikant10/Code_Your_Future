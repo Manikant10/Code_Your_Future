{
 "cells": [
  {
   "cell_type": "code",
   "execution_count": 6,
   "id": "f2220aa3-6a28-4a7d-bbba-57dc89232838",
   "metadata": {},
   "outputs": [
    {
     "ename": "NameError",
     "evalue": "name 'Square_footage' is not defined",
     "output_type": "error",
     "traceback": [
      "\u001b[1;31m---------------------------------------------------------------------------\u001b[0m",
      "\u001b[1;31mNameError\u001b[0m                                 Traceback (most recent call last)",
      "Cell \u001b[1;32mIn[6], line 28\u001b[0m\n\u001b[0;32m     25\u001b[0m     \u001b[38;5;28;01mreturn\u001b[39;00m m, b\n\u001b[0;32m     27\u001b[0m \u001b[38;5;66;03m# Step 3: Train the model\u001b[39;00m\n\u001b[1;32m---> 28\u001b[0m m, b, c, d, e, f, g \u001b[38;5;241m=\u001b[39m linear_regression(Square_footage,Num_Bedrooms,Num_Bathrooms,Year_Built,Lot_Size,Garage_Size,Neighborhood_Quality,)\n\u001b[0;32m     30\u001b[0m \u001b[38;5;66;03m# Step 4: Make predictions\u001b[39;00m\n\u001b[0;32m     31\u001b[0m \u001b[38;5;28;01mdef\u001b[39;00m \u001b[38;5;21mpredict\u001b[39m(X, m, b, c, d, e, f, g):\n",
      "\u001b[1;31mNameError\u001b[0m: name 'Square_footage' is not defined"
     ]
    }
   ],
   "source": [
    "import numpy as np\n",
    "import matplotlib.pyplot as plt\n",
    "import pandas as pd\n",
    "\n",
    "df=pd.read_csv(\"C:\\\\house.csv\")\n",
    "\n",
    "#prepare input(X)\n",
    "X=df.drop(['House_Price'],axis=1)\n",
    "y=df['House_Price']\n",
    "\n",
    "# Step 2: Calculate the slope (m) and intercept (b) using the least squares formula\n",
    "def linear_regression(X, y):\n",
    "    n = len(X)\n",
    "    X_mean = np.mean(X)\n",
    "    y_mean = np.mean(y)\n",
    "    \n",
    "    # Calculate the slope (m)\n",
    "    numerator = np.sum((X - X_mean) * (y - y_mean))\n",
    "    denominator = np.sum((X - X_mean) ** 2)\n",
    "    m = numerator / denominator\n",
    "    \n",
    "    # Calculate the intercept (b)\n",
    "    b = y_mean - m * X_mean\n",
    "    \n",
    "    return m, b\n",
    "\n",
    "# Step 3: Train the model\n",
    "m, b, c, d, e, f, g = linear_regression(Square_footage,Num_Bedrooms,Num_Bathrooms,Year_Built,Lot_Size,Garage_Size,Neighborhood_Quality,)\n",
    "\n",
    "# Step 4: Make predictions\n",
    "def predict(X, m, b, c, d, e, f, g):\n",
    "    return m * X + b\n",
    "\n",
    "predicted_prices = predict(sizes, m, b)\n",
    "\n",
    "# Step 5: Visualize the results\n",
    "plt.scatter(sizes, prices, color='blue', label='Actual Prices')\n",
    "plt.plot(sizes, predicted_prices, color='red', label='Regression Line')\n",
    "plt.xlabel('Size of House (sq ft)')\n",
    "plt.ylabel('Price (in thousands)')\n",
    "plt.title('House Prices Prediction using Linear Regression')\n",
    "plt.legend()\n",
    "plt.show()\n",
    "\n",
    "# Print the slope and intercept\n",
    "print(f\"Slope (m): {m}\")\n",
    "print(f\"Intercept (b): {b}\")"
   ]
  },
  {
   "cell_type": "code",
   "execution_count": null,
   "id": "625eade6-c5d9-49af-8c50-03d32cb45768",
   "metadata": {},
   "outputs": [],
   "source": []
  }
 ],
 "metadata": {
  "kernelspec": {
   "display_name": "Python [conda env:base] *",
   "language": "python",
   "name": "conda-base-py"
  },
  "language_info": {
   "codemirror_mode": {
    "name": "ipython",
    "version": 3
   },
   "file_extension": ".py",
   "mimetype": "text/x-python",
   "name": "python",
   "nbconvert_exporter": "python",
   "pygments_lexer": "ipython3",
   "version": "3.12.7"
  }
 },
 "nbformat": 4,
 "nbformat_minor": 5
}
