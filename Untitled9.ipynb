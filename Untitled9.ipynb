data={
    'Student':['Manikant','Shikha','Aman','Ayush','Abhishek','Devi','Mayank'],
    'Marks':[120,99,85,110,112,135,195]
}
df=pd.DataFrame(data)
df.head()

# here we have use head to see our dataset ,is it created or not.
#Now we calculate the following :
#Calculating mean'

mean=df['Marks'].mean()
print("Mean score is",mean)


#Calculating variance
var=df['Marks'].var()
print("Variance is",var)


#calculating standard deviation
std=df['Marks'].std()
print("Standard deviation is",std)


#calculating median 
median=df['Marks'].median()
print("Median is ",median)
Median is  112.0
print("Mean score is",mean)
print("Variance is",var)
print("Standard deviation is",std)
print("Median is ",median)


#the above method is used for caclulating staistics for small data but for large data we can have other methods lets understand these from an example
df1=pd.read_csv("C:\\admission_data.csv")

df1.head()
df1.columns

#here we calculate mean and variance of GRE score
mean1=df1['GRE Score'].mean()
median1=df1['GRE Score'].median()
var1=df1['GRE Score'].var()
std1=df1['GRE Score'].std()



#print the above values
print("Mean of GRE is",mean1)
print("Median of GRE is",median1)
print("Variance of GRE is",var1)
print("Standard Deviation of GRE score is", std1)
